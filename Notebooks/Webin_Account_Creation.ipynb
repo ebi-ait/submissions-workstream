{
 "cells": [
  {
   "cell_type": "markdown",
   "id": "39c356b7",
   "metadata": {},
   "source": [
    "# Webin account creation\n",
    "\n",
    "## Purpose of this notebook\n",
    "\n",
    "This notebook is intended to show how to register a webin account, showing an example.\n",
    "\n",
    "## Before you start\n",
    "\n",
    "- Webin API (Prod): https://www.ebi.ac.uk/ena/submit/webin/auth/swagger-ui/index.html\n",
    "- Webin API (Dev): https://wwwdev.ebi.ac.uk/ena/submit/webin/auth/swagger-ui/index.html#/AuthenticationAPI/login"
   ]
  },
  {
   "cell_type": "markdown",
   "id": "eda90561",
   "metadata": {},
   "source": [
    "## Gathering the information necessary for account creation\n",
    "\n",
    "As stated in the documentation, the API is expecting the following information when a user is trying to create a submission:\n",
    "```json\n",
    "{\n",
    "  \"address\": \"string\",\n",
    "  \"brokerName\": \"string\",\n",
    "  \"centerName\": \"string\",\n",
    "  \"country\": \"string\",\n",
    "  \"id\": \"string\",\n",
    "  \"laboratoryName\": \"string\",\n",
    "  \"metagenomeSubmitter\": true,\n",
    "  \"metagenomicsConsented\": true,\n",
    "  \"suspended\": true,\n",
    "  \"webinPassword\": \"string\",\n",
    "  \"submissionContacts\": [\n",
    "    {\n",
    "      \"consortium\": \"string\",\n",
    "      \"emailAddress\": \"string\",\n",
    "      \"firstName\": \"string\",\n",
    "      \"mainContact\": true,\n",
    "      \"middleInitials\": \"string\",\n",
    "      \"submissionAccountId\": \"string\",\n",
    "      \"surname\": \"string\"\n",
    "    }\n",
    "  ]\n",
    "}\n",
    "```\n",
    "\n",
    "But, what does all it mean?\n",
    "\n",
    "\n",
    "| Field name | Description | Example | Required? |\n",
    "|:---------------:|:-----------:|:-----------:|:--------:|\n",
    "|webinPassword | Password for the account that is being created | hellyeahimawesome12345 |  &#9989; |\n",
    "|address | Work or personal address of the individual or company registering an account | 123 fake street, CB1 3NB | &#9989; |\n",
    "|brokerName | Name of the brokering entity. Person/Entity who is submitting the data, on his own or other people's behalf. | Enrique; HCA Ingestion service|  &#9989; |\n",
    "|centerName | Name of the center where the person works/is operating. | EMBL-EBI;Institute of Awesomeness | |\n",
    "|laboratoryName | Name of the laboratory the user belongs to. |  | |\n",
    "|country | Name of country where the user is operating from | Spain; Italy; India; Bulgary; Israel; India |  &#9989; |\n",
    "|id | Unique identifier of the person in the database. Please don't fill. | | |\n",
    "|metagenomeSubmitter | If the account is a metagenome data submitter. | |&#9989; |\n",
    "|metagenomicsConsented | If the account is consented to send metagenomics data. | | &#9989;|\n",
    "|suspended | If the individual's account is suspended. Please don't fill | | |\n",
    "\n",
    "There is an extra field we have not covered: `submissionContacts`. This field is a list of the submission contacts associated with the account. At least one `mainContact` is needed. Each of the elements of this list has to have the following properties:\n",
    "\n",
    "\n",
    "| Field name | Description | Example | Required? |\n",
    "|:---------------:|:-----------:|:-----------:|:--------:|\n",
    "|emailAddress | email address of the contact | enrique@ebi.ac.uk |  &#9989; |\n",
    "|firstName | First name of the contact | Enrique |  &#9989; |\n",
    "|middleInitials | Initial(s) of the middle name of the contact | S |  &#9989; |\n",
    "|surname | surname(s) of the contact | Sapena Ventura |  &#9989; |\n",
    "|consortium | Consortium the contact is involved with | HCA;HubMap | |\n",
    "|mainContact | Is this the main contact for the activities related to this account? There should be at least one | true;false| |\n",
    "|submissionAccountId | ID associated with the submission account. Please don't fill | | |\n"
   ]
  },
  {
   "cell_type": "markdown",
   "id": "236804f0",
   "metadata": {},
   "source": [
    "### Creating and storing the information as a python dictionary\n",
    "\n",
    "We are going to create the information and store it for future use. For that, we will just paste the information below and fill in the necessary fields."
   ]
  },
  {
   "cell_type": "code",
   "execution_count": 30,
   "id": "a3f55aea",
   "metadata": {},
   "outputs": [],
   "source": [
    "account_details = {\n",
    "  \"address\": \"Campus, EMBL-EBI Main Building, Wellcome Genome, Hinxton CB10 1SD\",\n",
    "  \"brokerName\": \"Enrique\",\n",
    "  \"centerName\": \"EMBL-EBI\",\n",
    "  \"country\": \"United Kingdom\",\n",
    "  \"laboratoryName\": \"AIT\",\n",
    "  \"webinPassword\": \"webintesting123\",\n",
    "  \"metagenomeSubmitter\": True,\n",
    "  \"metagenomicsConsented\": True,\n",
    "  \"submissionContacts\": []\n",
    "}\n",
    "submission_contacts = [{\n",
    "      \"consortium\": \"Human Cell Atlas\",\n",
    "      \"emailAddress\": \"fakemail123@gmail.com\",\n",
    "      \"firstName\": \"Enrique\",\n",
    "      \"mainContact\": True,\n",
    "      \"surname\": \"Sapena Ventura\"\n",
    "    }]\n",
    "\n",
    "account_details['submissionContacts'] = submission_contacts\n"
   ]
  },
  {
   "cell_type": "markdown",
   "id": "d5f028ed",
   "metadata": {},
   "source": [
    "Please note that we have skipped some fields; primarily the ones tagged with `don't fill` in the field description tables from before.\n",
    "\n",
    "Now we have everything in place to start with the POST request to create the account. Please note that we could create a new submission contact by adding another element to the list."
   ]
  },
  {
   "cell_type": "markdown",
   "id": "ecf71b9c",
   "metadata": {},
   "source": [
    "## Creating the account"
   ]
  },
  {
   "cell_type": "code",
   "execution_count": 31,
   "id": "1e5cf857",
   "metadata": {},
   "outputs": [
    {
     "data": {
      "text/plain": [
       "{'address': 'Campus, EMBL-EBI Main Building, Wellcome Genome, Hinxton CB10 1SD',\n",
       " 'brokerName': 'Enrique',\n",
       " 'centerName': 'EMBL-EBI',\n",
       " 'country': 'United Kingdom',\n",
       " 'laboratoryName': 'AIT',\n",
       " 'webinPassword': 'webintesting123',\n",
       " 'metagenomeSubmitter': True,\n",
       " 'metagenomicsConsented': True,\n",
       " 'submissionContacts': [{'consortium': 'Human Cell Atlas',\n",
       "   'emailAddress': 'fakemail123@gmail.com',\n",
       "   'firstName': 'Enrique',\n",
       "   'mainContact': True,\n",
       "   'surname': 'Sapena Ventura'}]}"
      ]
     },
     "execution_count": 31,
     "metadata": {},
     "output_type": "execute_result"
    }
   ],
   "source": [
    "account_details"
   ]
  },
  {
   "cell_type": "code",
   "execution_count": 32,
   "id": "ee71042b",
   "metadata": {},
   "outputs": [
    {
     "name": "stdout",
     "output_type": "stream",
     "text": [
      "The content of the response is incorrect. Error message:\n",
      "Password must be at least 10 characters and meet the following minimum requirements. Contain characters from three of the following four categories: \n",
      " (1) Uppercase letters A-Z, \n",
      " (2) Lowercase letters a-z, \n",
      " (3) Digits 0-9, \n",
      " (4) Special characters e.g.: !, $, #, % \n"
     ]
    }
   ],
   "source": [
    "import requests as rq\n",
    "from requests.exceptions import RequestException\n",
    "\n",
    "webin_url = \"https://wwwdev.ebi.ac.uk/ena/submit/webin/auth\"\n",
    "endpoint = \"/admin/submission-account\"\n",
    "\n",
    "response = rq.post(f\"{webin_url}{endpoint}\", json=account_details)\n",
    "try:\n",
    "    response.raise_for_status()\n",
    "    new_account = response.json()\n",
    "except RequestException as e:\n",
    "    if response.status_code == 400:\n",
    "        print(f\"The content of the response is incorrect. Error message:\\n{response.text}\")\n",
    "    else:\n",
    "        print(\"Something went wrong:\", e)"
   ]
  },
  {
   "cell_type": "markdown",
   "id": "ed330b44",
   "metadata": {},
   "source": [
    "There are some requirements for the password; we will ammend the password by starting it with an uppercase letter."
   ]
  },
  {
   "cell_type": "code",
   "execution_count": 33,
   "id": "ee157950",
   "metadata": {},
   "outputs": [],
   "source": [
    "account_details['webinPassword'] = \"Webintesting123\""
   ]
  },
  {
   "cell_type": "markdown",
   "id": "4a2ec87a",
   "metadata": {},
   "source": [
    "And run the code again"
   ]
  },
  {
   "cell_type": "code",
   "execution_count": 34,
   "id": "b21ffed4",
   "metadata": {},
   "outputs": [],
   "source": [
    "response = rq.post(f\"{webin_url}{endpoint}\", json=account_details)\n",
    "try:\n",
    "    response.raise_for_status()\n",
    "    new_account = response.json()\n",
    "except RequestException as e:\n",
    "    if response.status_code == 400:\n",
    "        print(f\"The content of the response is incorrect. Error message:\\n{response.text}\")\n",
    "    else:\n",
    "        print(\"Something went wrong:\", e)"
   ]
  },
  {
   "cell_type": "code",
   "execution_count": 35,
   "id": "1fd20203",
   "metadata": {},
   "outputs": [
    {
     "data": {
      "text/plain": [
       "{'address': 'Campus, EMBL-EBI Main Building, Wellcome Genome, Hinxton CB10 1SD',\n",
       " 'brokerName': 'Enrique',\n",
       " 'centerName': 'EMBL-EBI',\n",
       " 'country': 'United Kingdom',\n",
       " 'id': 'Webin-64343',\n",
       " 'laboratoryName': 'AIT',\n",
       " 'metagenomeSubmitter': True,\n",
       " 'metagenomicsConsented': True,\n",
       " 'suspended': False,\n",
       " 'submissionContacts': [{'consortium': 'Human Cell Atlas',\n",
       "   'emailAddress': 'fakemail123@gmail.com',\n",
       "   'firstName': 'Enrique',\n",
       "   'mainContact': True,\n",
       "   'middleInitials': None,\n",
       "   'submissionAccountId': 'Webin-64343',\n",
       "   'surname': 'Sapena Ventura'}]}"
      ]
     },
     "execution_count": 35,
     "metadata": {},
     "output_type": "execute_result"
    }
   ],
   "source": [
    "new_account"
   ]
  },
  {
   "cell_type": "markdown",
   "id": "6204bb26",
   "metadata": {},
   "source": [
    "Now we have an account - Please note down the details, as they will be used in the next steps."
   ]
  },
  {
   "cell_type": "code",
   "execution_count": null,
   "id": "90b37f00",
   "metadata": {},
   "outputs": [],
   "source": []
  }
 ],
 "metadata": {
  "kernelspec": {
   "display_name": "Python 3 (ipykernel)",
   "language": "python",
   "name": "python3"
  },
  "language_info": {
   "codemirror_mode": {
    "name": "ipython",
    "version": 3
   },
   "file_extension": ".py",
   "mimetype": "text/x-python",
   "name": "python",
   "nbconvert_exporter": "python",
   "pygments_lexer": "ipython3",
   "version": "3.10.0"
  }
 },
 "nbformat": 4,
 "nbformat_minor": 5
}
